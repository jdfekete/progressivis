{
 "cells": [
  {
   "cell_type": "code",
   "execution_count": 1,
   "metadata": {
    "lines_to_next_cell": 2
   },
   "outputs": [],
   "source": [
    "%gui asyncio\n",
    "from progressivis.nbwidgets import *"
   ]
  },
  {
   "cell_type": "code",
   "execution_count": 2,
   "metadata": {},
   "outputs": [
    {
     "name": "stdout",
     "output_type": "stream",
     "text": [
      "***********************************"
     ]
    }
   ],
   "source": [
    "import time\n",
    "import pandas as pd\n",
    "import copy\n",
    "from progressivis.core import Scheduler, Every, JSONEncoderNp, asynchronize\n",
    "from progressivis.table import Table\n",
    "from progressivis.vis import MCScatterPlot\n",
    "from progressivis.io import CSVLoader\n",
    "#from progressivis.datasets import get_dataset\n",
    "from progressivis.table.constant import Constant\n",
    "import asyncio as aio\n",
    "import functools as ft\n",
    "\n",
    "def _quiet(x): pass\n",
    "\n",
    "\n",
    "def _filter(df):\n",
    "    pklon = df['pickup_longitude']\n",
    "    pklat = df['pickup_latitude']\n",
    "    dolon = df['dropoff_longitude']\n",
    "    dolat = df['dropoff_latitude']\n",
    "\n",
    "    return df[(pklon > -74.08) & (pklon < -73.5) & (pklat > 40.55) & (pklat < 41.00) &\n",
    "                  (dolon > -74.08) & (dolon < -73.5) & (dolat > 40.55) & (dolat < 41.00)]\n",
    "\n",
    "def feed_widget(wg):\n",
    "    wg.data = JSONEncoderNp.dumps(val)\n",
    "    wg.refresh()\n",
    "\n",
    "try:\n",
    "    s = scheduler\n",
    "except NameError:\n",
    "    s = Scheduler()\n",
    "\n",
    "#PREFIX= 'https://storage.googleapis.com/tlc-trip-data/2015/'\n",
    "#SUFFIX= ''\n",
    "PREFIX = '../../../nyc-taxi/'\n",
    "\n",
    "SUFFIX = '.bz2'\n",
    "\n",
    "URLS = [\n",
    "    PREFIX+'yellow_tripdata_2015-01.csv'+SUFFIX,\n",
    "    PREFIX+'yellow_tripdata_2015-02.csv'+SUFFIX,\n",
    "    PREFIX+'yellow_tripdata_2015-03.csv'+SUFFIX,\n",
    "    PREFIX+'yellow_tripdata_2015-04.csv'+SUFFIX,\n",
    "    PREFIX+'yellow_tripdata_2015-05.csv'+SUFFIX,\n",
    "    PREFIX+'yellow_tripdata_2015-06.csv'+SUFFIX,\n",
    "]\n",
    "\n",
    "FILENAMES = pd.DataFrame({'filename': URLS})\n",
    "#import pdb;pdb.set_trace()\n",
    "CST = Constant(Table('filenames', data=FILENAMES), scheduler=s)\n",
    "CSV = CSVLoader(index_col=False, skipinitialspace=True,\n",
    "                usecols=['pickup_longitude', 'pickup_latitude',\n",
    "                             'dropoff_longitude', 'dropoff_latitude'],\n",
    "                filter_=_filter, scheduler=s) # TODO: reimplement filter in read_csv.py\n",
    "\n",
    "CSV.input.filenames = CST.output.table\n",
    "PR = Every(scheduler=s, proc=_quiet)\n",
    "PR.input.df = CSV.output.table\n",
    "psboard = PsBoard(s)\n",
    "refresh_event = aio.Event()\n",
    "class MyScatterPlot(MCScatterPlot):\n",
    "    async def run(self, run_number):\n",
    "        await super().run(run_number)\n",
    "        psboard.enable_refresh()\n",
    "        #aio.create_task(asynchronize(psboard.refresh))\n",
    "MULTICLASS = MyScatterPlot(scheduler=s, classes=[\n",
    "    ('pickup', 'pickup_longitude', 'pickup_latitude'),\n",
    "    ('dropoff', 'dropoff_longitude', 'dropoff_latitude')], approximate=True)\n",
    "MULTICLASS.create_dependent_modules(CSV, 'table')\n",
    "\n",
    "async def from_input():\n",
    "    while True:\n",
    "        await wait_for_change(sc, 'value')\n",
    "        bounds = sc.value\n",
    "        await MULTICLASS.min_value.from_input(bounds['min'])\n",
    "        await MULTICLASS.max_value.from_input(bounds['max'])\n",
    "\n",
    "aio.create_task(s.start(coros=psboard.coroutines));\n"
   ]
  },
  {
   "cell_type": "code",
   "execution_count": 3,
   "metadata": {},
   "outputs": [
    {
     "data": {
      "application/vnd.jupyter.widget-view+json": {
       "model_id": "8cb72b395f3f401bba17bc475e7386ee",
       "version_major": 2,
       "version_minor": 0
      },
      "text/plain": [
       "PsBoard(children=(ControlPanel(children=(Button(description='Resume', disabled=True, icon='play', style=Button…"
      ]
     },
     "metadata": {},
     "output_type": "display_data"
    },
    {
     "name": "stdout",
     "output_type": "stream",
     "text": [
      "*********************"
     ]
    }
   ],
   "source": [
    "display(psboard)"
   ]
  },
  {
   "cell_type": "code",
   "execution_count": null,
   "metadata": {},
   "outputs": [],
   "source": [
    "type(psboard.current_module)"
   ]
  },
  {
   "cell_type": "code",
   "execution_count": null,
   "metadata": {},
   "outputs": [],
   "source": [
    "type(psboard.tab.children[1])"
   ]
  }
 ],
 "metadata": {
  "jupytext": {
   "encoding": "# -*- coding: utf-8 -*-",
   "formats": "ipynb,py:light"
  },
  "kernelspec": {
   "display_name": "Python 3",
   "language": "python",
   "name": "python3"
  },
  "language_info": {
   "codemirror_mode": {
    "name": "ipython",
    "version": 3
   },
   "file_extension": ".py",
   "mimetype": "text/x-python",
   "name": "python",
   "nbconvert_exporter": "python",
   "pygments_lexer": "ipython3",
   "version": "3.7.4"
  }
 },
 "nbformat": 4,
 "nbformat_minor": 4
}
