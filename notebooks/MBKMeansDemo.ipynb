{
 "cells": [
  {
   "cell_type": "code",
   "execution_count": 1,
   "metadata": {},
   "outputs": [],
   "source": [
    "%gui asyncio\n",
    "from progressivis.nbwidgets import *"
   ]
  },
  {
   "cell_type": "code",
   "execution_count": 2,
   "metadata": {},
   "outputs": [
    {
     "name": "stdout",
     "output_type": "stream",
     "text": [
      "15\n",
      "*"
     ]
    }
   ],
   "source": [
    "\"\"\"\n",
    "Clustering datasets may be found at\n",
    "https://cs.joensuu.fi/sipu/datasets/\n",
    "\"\"\"\n",
    "from progressivis import Scheduler, Every#, log_level\n",
    "from progressivis.cluster import MBKMeans\n",
    "from progressivis.io import CSVLoader\n",
    "from progressivis.vis import MCScatterPlot\n",
    "from progressivis.datasets import get_dataset\n",
    "from progressivis.stats import RandomTable\n",
    "\n",
    "try:\n",
    "    s = scheduler\n",
    "except NameError:\n",
    "    s = Scheduler()\n",
    "    #log_level(package=\"progressivis.cluster\")\n",
    "\n",
    "data = CSVLoader(get_dataset('cluster:s1'),sep='\\\\s+',skipinitialspace=True,header=None,index_col=False,scheduler=s)\n",
    "mbkmeans = MBKMeans(columns=['_0', '_1'], n_clusters=15, batch_size=100, is_input=False, scheduler=s)\n",
    "sp = MCScatterPlot(scheduler=s, classes=[('Scatterplot', '_0', '_1', mbkmeans)], approximate=True)\n",
    "sp.create_dependent_modules(data,'table')\n",
    "mbkmeans.input.table = sp['Scatterplot'].range_query_2d.output.table\n",
    "mbkmeans.create_dependent_modules()\n",
    "prn = Every(scheduler=s)\n",
    "prn.input.df = mbkmeans.output.table\n",
    "\n",
    "sp.move_point = mbkmeans.moved_center # for input management\n",
    "# Create the dashboard object\n",
    "psboard = PsBoard(s)\n",
    "# Visualisations require registration :\n",
    "# 1) When widget provides the link_module() method do :\n",
    "psboard.register_visualisation(Scatterplot(), sp)\n",
    "# 2) When widget is generic or for overloading the link_module() method do:\n",
    "# psboard.register_visualisation(FooWidget(), bar_module, glue=glue_func)\n",
    "# NB: glue_func(widget, module)-> [coroutine] must be provided\n",
    "# Start application :\n",
    "aio.create_task(s.start(coros=psboard.coroutines));"
   ]
  },
  {
   "cell_type": "code",
   "execution_count": null,
   "metadata": {},
   "outputs": [],
   "source": [
    "import time\n",
    "time.sleep(3) # for voilà ..."
   ]
  },
  {
   "cell_type": "code",
   "execution_count": 3,
   "metadata": {},
   "outputs": [
    {
     "data": {
      "application/vnd.jupyter.widget-view+json": {
       "model_id": "791272db2dcd42f7a237067f051520db",
       "version_major": 2,
       "version_minor": 0
      },
      "text/plain": [
       "PsBoard(children=(ControlPanel(children=(Button(description='Resume', disabled=True, icon='play', style=Button…"
      ]
     },
     "metadata": {},
     "output_type": "display_data"
    },
    {
     "name": "stdout",
     "output_type": "stream",
     "text": [
      "Reset, init= [[606817.55555556 552688.61111111]\n",
      " [605277.         624850.08      ]\n",
      " [647308.875      524533.625     ]\n",
      " [374862.5        516240.37724551]\n",
      " [625632.72016461 422053.88477366]\n",
      " [435511.04624277 780858.22254335]\n",
      " [600075.26666667 573998.82666667]\n",
      " [800117.22740525 323255.18367347]\n",
      " [470292.80412371 367580.12628866]\n",
      " [614850.36363636 587694.54545455]\n",
      " [651258.35714286 598833.57142857]\n",
      " [769372.         770146.        ]\n",
      " [569363.44444444 566190.40740741]\n",
      " [835657.59485531 554173.48231511]\n",
      " [625142.38095238 573430.        ]]\n",
      "15\n",
      "Reset, init= [[596850.25454545 509931.70909091]\n",
      " [590387.03125    638811.21875   ]\n",
      " [587836.88221154 379762.71634615]\n",
      " [424145.         743433.        ]\n",
      " [430243.46666667 797913.86666667]\n",
      " [416650.18394649 787148.11705686]\n",
      " [600703.80487805 574052.36585366]\n",
      " [800729.21712538 317131.49235474]\n",
      " [703884.         572888.        ]\n",
      " [610283.23076923 598066.84615385]\n",
      " [778940.02155172 744097.07758621]\n",
      " [769372.         770146.        ]\n",
      " [552598.39583333 561033.14583333]\n",
      " [849085.66192171 541816.56939502]\n",
      " [628865.86363636 572785.81818182]]\n",
      "15\n",
      "Reset, init= [[599570.62222222 384010.36      ]\n",
      " [406329.         784444.        ]\n",
      " [579773.         568698.        ]\n",
      " [593865.         572987.        ]\n",
      " [580048.         565009.        ]\n",
      " [835006.53072626 541483.16759777]\n",
      " [600294.56481481 572581.5462963 ]\n",
      " [585477.27272727 519044.        ]\n",
      " [703884.         572888.        ]\n",
      " [627941.71428571 674742.11904762]\n",
      " [565483.         551512.        ]\n",
      " [769372.         770146.        ]\n",
      " [394514.4118705  470856.39208633]\n",
      " [802369.0358209  332283.50149254]\n",
      " [639016.20930233 568148.02325581]]\n",
      "15\n",
      "15\n"
     ]
    }
   ],
   "source": [
    "display(psboard)"
   ]
  }
 ],
 "metadata": {
  "kernelspec": {
   "display_name": "Python 3",
   "language": "python",
   "name": "python3"
  },
  "language_info": {
   "codemirror_mode": {
    "name": "ipython",
    "version": 3
   },
   "file_extension": ".py",
   "mimetype": "text/x-python",
   "name": "python",
   "nbconvert_exporter": "python",
   "pygments_lexer": "ipython3",
   "version": "3.8.2"
  }
 },
 "nbformat": 4,
 "nbformat_minor": 4
}
