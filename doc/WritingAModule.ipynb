{
 "cells": [
  {
   "cell_type": "markdown",
   "metadata": {},
   "source": [
    "# Writing a module\n",
    "\n",
    "Calculation modules are most often subclasses of the *progressivis.table.module.TableModule* class. A lower level class exists (*progressivis.core.Module*) but it is unsuitable for direct use.\n",
    "\n",
    "As a general rule, to define a new module you must:\n",
    "\n",
    "1. Create a class deriving TableModule\n",
    "2. Define the input slots on this class via a class attribute called `inputs`\n",
    "3. Define on this class, only if necessary, additional output slots via a class attribute called `outputs` , knowing that the default output named `\"table\"`  is already defined in TableModule and inherited by your class.\n",
    "4. Define the `run_step()` method on this class\n"
   ]
  },
  {
   "cell_type": "code",
   "execution_count": 1,
   "metadata": {},
   "outputs": [],
   "source": [
    "from progressivis.table.module import TableModule, Table\n",
    "from progressivis import SlotDescriptor\n",
    "\n",
    "class MyModule(TableModule):\n",
    "    inputs = [SlotDescriptor('first', type=Table, required=True), \n",
    "              SlotDescriptor('second', type=Table, required=True)]\n",
    "    # defining the \"outputs\" attribute is not necessary when \n",
    "    # only one output is requested. Just use the already defined \"table\" output\n",
    "    def run_step(self, run_number, step_size, howlong):\n",
    "        \"\"\"\n",
    "        * run_number: identifies the current run step\n",
    "        * step_size: number of rows to be processed in this step\n",
    "        * howlong: assigned time for this step\n",
    "        \"\"\" \n",
    "        pass # your algorithm "
   ]
  },
  {
   "cell_type": "markdown",
   "metadata": {},
   "source": [
    "## Writing a `run_step()` method \n",
    "\n",
    "Regardless of the algorithm implemented, we can identify eight parts in the method which will be more or less well separated:\n",
    "\n",
    "1. Analysis of input slots\n",
    "2. Special actions if the state of the slots requires it\n",
    "3. Choice of the size of the data that will be consumed on the slots\n",
    "4. Effective reading on slots\n",
    "5. Processing itself\n",
    "6. Creation of output objects (Table, PsDict, only once, before the first output write)\n",
    "7. Writing output data\n",
    "8. Return of the next module state and number of steps taken\n",
    "\n",
    "**NB:** in the next examples focused lines are commented like that: # /!\\\n",
    "\n",
    "### Analyze input slots\n",
    "\n",
    "Analysis is possible via several methods available on an input slot object.\n",
    "\n",
    "Access to the entry slots can be done by name:"
   ]
  },
  {
   "cell_type": "code",
   "execution_count": 2,
   "metadata": {},
   "outputs": [],
   "source": [
    "class MyModule(TableModule):\n",
    "    inputs = [SlotDescriptor('first', type=Table, required=True), \n",
    "              SlotDescriptor('second', type=Table, required=True)]\n",
    "    def run_step(self, run_number, step_size, howlong):\n",
    "        slot = self.get_input_slot('first') # /!\\\n",
    "        # ..."
   ]
  },
  {
   "cell_type": "markdown",
   "metadata": {},
   "source": [
    "We can also process slots in a loop:"
   ]
  },
  {
   "cell_type": "code",
   "execution_count": 3,
   "metadata": {},
   "outputs": [],
   "source": [
    "class MyModule(TableModule):\n",
    "    inputs = [SlotDescriptor('first', type=Table, required=True), \n",
    "              SlotDescriptor('second', type=Table, required=True)]\n",
    "    def run_step(self, run_number, step_size, howlong):\n",
    "        for slot_name, slot in self._input_slots.items(): # /!\\\n",
    "            if slot is None: # e.g. _params slot not provided\n",
    "                continue\n",
    "            # ..."
   ]
  },
  {
   "cell_type": "markdown",
   "metadata": {},
   "source": [
    "Available methods:\n",
    "\n",
    "* `slot.has_buffered()`: informs if data has been created / modified / deleted, without distinction since the last run\n",
    "* `slot.created.any()`: data has been created since the last run\n",
    "* `slot.updated.any()`: data has been modified since the last run\n",
    "* `slot.deleted.any()`: data has been deleted since the last run\n",
    "* `slot.created.length()`: number of rows created since the last run\n",
    "* `slot.updated.length()`: number of rows modified since the last run\n",
    "* `slot.deleted.length()`: number of rows deleted since the last run\n",
    "\n",
    "All of these methods are idempotent.\n",
    "\n",
    "### Special actions if the state of the slots requires it\n",
    "\n",
    "After analysis, depending on the state of the inputs and the semantics of your module, several situations may arise:\n",
    "\n",
    "* If one or more slots have not changed since the last execution (according to your processing needs) the execution stops and the module switches to \"blocked\" state (waiting for new data):"
   ]
  },
  {
   "cell_type": "code",
   "execution_count": 4,
   "metadata": {},
   "outputs": [],
   "source": [
    "class MyModule(TableModule):\n",
    "    inputs = [SlotDescriptor('first', type=Table, required=True), \n",
    "              SlotDescriptor('second', type=Table, required=True)]\n",
    "    def run_step(self, run_number, step_size, howlong):\n",
    "        slot = self.get_input_slot('first')\n",
    "        if not slot.has_buffered():\n",
    "            return self._return_run_step(self.state_blocked, steps_run=0) # /!\\\n",
    "        # ..."
   ]
  },
  {
   "cell_type": "markdown",
   "metadata": {},
   "source": [
    "* Most of the time, the modification or deletion of data already processed invalidates the result already produced. When this happens, your `run_step()` method should:\n",
    "     * repair the results already produced when possible\n",
    "     * or reinitialize the concerned slot (and sometimes other slots involved in the operation) as well as the output and start the processing from scratch.\n",
    "\n",
    "Repair, when possible, is closely related to the semantics of your algorithm so this is not covered here, but the reset operation is algorithm-agnostic:"
   ]
  },
  {
   "cell_type": "code",
   "execution_count": 5,
   "metadata": {},
   "outputs": [],
   "source": [
    "class Max(TableModule):\n",
    "    inputs = [SlotDescriptor('table', type=Table, required=True)]\n",
    "    def run_step(self, run_number, step_size, howlong):\n",
    "        slot = self.get_input_slot('table')\n",
    "        if slot.updated.any() or slot.deleted.any():\n",
    "            slot.reset()\n",
    "            if self._table is not None:\n",
    "                self._table.resize(0)\n",
    "            slot.update(run_number)\n",
    "        # ..."
   ]
  },
  {
   "cell_type": "markdown",
   "metadata": {},
   "source": [
    "**NB:** sometimes resetting only the impacted slot is not sufficient:"
   ]
  },
  {
   "cell_type": "code",
   "execution_count": 6,
   "metadata": {},
   "outputs": [],
   "source": [
    "class Hadamard(TableModule):\n",
    "    inputs = [SlotDescriptor('x1', type=Table, required=True), \n",
    "              SlotDescriptor('x2', type=Table, required=True)]\n",
    "    def run_step(self, run_number, step_size, howlong):\n",
    "        x1 = self.get_input_slot('x1')\n",
    "        x2 = self.get_input_slot('x2')\n",
    "        if x1.updated.any() or x1.deleted.any() or x2.updated.any() or x2.deleted.any():\n",
    "            x1.reset()\n",
    "            x2.reset()\n",
    "            if self._table is not None:\n",
    "                self._table.resize(0)\n",
    "            x1.update(run_number)        \n",
    "            x2.update(run_number)\n",
    "        # ... process element-wise x1 * x2"
   ]
  },
  {
   "cell_type": "markdown",
   "metadata": {},
   "source": [
    "**NB:** Always call slot.update() after a slot.reset()\n",
    "\n",
    "### Choice of the size of the data that will be consumed on the slots\n",
    "\n",
    "When there is only one input slot, the data size is given by the `step_size` argument but when there are several slots, you have to choose the size of data that you are able to process in a step:"
   ]
  },
  {
   "cell_type": "code",
   "execution_count": 7,
   "metadata": {},
   "outputs": [],
   "source": [
    "class Hadamard(TableModule):\n",
    "    inputs = [SlotDescriptor('x1', type=Table, required=True), \n",
    "              SlotDescriptor('x2', type=Table, required=True)]\n",
    "    def run_step(self, run_number, step_size, howlong):\n",
    "        x1 = self.get_input_slot('x1')\n",
    "        x2 = self.get_input_slot('x2')\n",
    "        if x1.updated.any() or x1.deleted.any() or x2.updated.any() or x2.deleted.any():\n",
    "            x1.reset()\n",
    "            x2.reset()\n",
    "            if self._table is not None:\n",
    "                self._table.resize(0)\n",
    "            x1.update(run_number)        \n",
    "            x2.update(run_number)\n",
    "        step_size = min(x1.created.length(), x2.created.length(), step_size) # /!\\\n",
    "        # ... process element-wise x1 * x2"
   ]
  },
  {
   "cell_type": "markdown",
   "metadata": {},
   "source": [
    "### Effective reading on the slots\n",
    "\n",
    "The key method in this step is the `next()` method called with the size estimated in the previous step. \n",
    "Calling `slot.created.next(step_size)` can get `n <=step_size` rows if` slot.created.length () <=step_size` but never more rows than asked:"
   ]
  },
  {
   "cell_type": "code",
   "execution_count": 8,
   "metadata": {},
   "outputs": [],
   "source": [
    "class Max(TableModule):\n",
    "    inputs = [SlotDescriptor('table', type=Table, required=True)]\n",
    "    def run_step(self, run_number, step_size, howlong):\n",
    "        slot = self.get_input_slot('table')\n",
    "        if slot.updated.any() or slot.deleted.any():\n",
    "            slot.reset()\n",
    "            if self._table is not None:\n",
    "                self._table.resize(0)\n",
    "            slot.update(run_number)\n",
    "        indices = slot.created.next(step_size) # /!\\ \n",
    "        steps = indices_len(indices)\n",
    "        if steps==0:\n",
    "            return self._return_run_step(self.state_blocked, steps_run=0)\n",
    "        # ..."
   ]
  },
  {
   "cell_type": "markdown",
   "metadata": {},
   "source": [
    "And also:"
   ]
  },
  {
   "cell_type": "code",
   "execution_count": 9,
   "metadata": {},
   "outputs": [],
   "source": [
    "class Hadamard(TableModule):\n",
    "    inputs = [SlotDescriptor('x1', type=Table, required=True), \n",
    "              SlotDescriptor('x2', type=Table, required=True)]\n",
    "    def run_step(self, run_number, step_size, howlong):\n",
    "        x1 = self.get_input_slot('x1')\n",
    "        x2 = self.get_input_slot('x2')\n",
    "        if x1.updated.any() or x1.deleted.any() or x2.updated.any() or x2.deleted.any():\n",
    "            x1.reset()\n",
    "            x2.reset()\n",
    "            if self._table is not None:\n",
    "                self._table.resize(0)\n",
    "            x1.update(run_number)        \n",
    "            x2.update(run_number)\n",
    "        step_size = min(x1.created.length(), x2.created.length(), step_size) \n",
    "        x1_indices = x1.created.next(step_size) # /!\\ \n",
    "        x2_indices = x2.created.next(step_size) # /!\\ \n",
    "        # ... process element-wise x1 * x2"
   ]
  },
  {
   "cell_type": "markdown",
   "metadata": {},
   "source": [
    "### The treatment itself\n",
    "\n",
    "This part is related to your algorithm. You can access the data of a slot via the `data()` method. The data associated with a slot are most of the time `Table` objects and sometimes` PsDict` objects. `Table` objects have a ** Pandas-alike ** interface (a subset, actually) while` PsDict` are Python dictionaries (`PsDict` inherits from` dict`).\n",
    "\n",
    "As the `next()` method could return a slice (numpy-alike) when the indices are contiguous or the set of indices if they are not (actually a Roaring bitmap), two other functions are important for this step:\n",
    "\n",
    "* `indices_len(indices)`: get the number of indices regardless of the nature of `indices` (slice or bitmap)\n",
    "* `fix_loc(indices)` : get a valid Pandas-alike `loc` index regardless of the nature of `indices` (slice or bitmap)\n",
    "\n",
    "For example:"
   ]
  },
  {
   "cell_type": "code",
   "execution_count": 10,
   "metadata": {},
   "outputs": [],
   "source": [
    "class Max(TableModule):\n",
    "    inputs = [SlotDescriptor('table', type=Table, required=True)]\n",
    "    def run_step(self, run_number, step_size, howlong):\n",
    "        slot = self.get_input_slot('table')\n",
    "        if slot.updated.any() or slot.deleted.any():\n",
    "            slot.reset()\n",
    "            if self._table is not None:\n",
    "                self._table.resize(0)\n",
    "            slot.update(run_number)\n",
    "        indices = slot.created.next(step_size) # /!\\ \n",
    "        steps = indices_len(indices) # /!\\\n",
    "        if steps==0:\n",
    "            return self._return_run_step(self.state_blocked, steps_run=0)\n",
    "        op = data.loc[fix_loc(indices)].max(keepdims=False) # /!\\\n",
    "        # ..."
   ]
  }
 ],
 "metadata": {
  "kernelspec": {
   "display_name": "Python 3",
   "language": "python",
   "name": "python3"
  },
  "language_info": {
   "codemirror_mode": {
    "name": "ipython",
    "version": 3
   },
   "file_extension": ".py",
   "mimetype": "text/x-python",
   "name": "python",
   "nbconvert_exporter": "python",
   "pygments_lexer": "ipython3",
   "version": "3.7.4"
  }
 },
 "nbformat": 4,
 "nbformat_minor": 2
}
